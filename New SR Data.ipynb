{
 "cells": [
  {
   "cell_type": "code",
   "execution_count": 1,
   "id": "1b5de908",
   "metadata": {},
   "outputs": [],
   "source": [
    "from sklearn.neural_network import MLPRegressor\n",
    "from xgboost import XGBRegressor\n",
    "from sklearn.ensemble import RandomForestRegressor\n",
    "from sklearn.svm import LinearSVR\n",
    "from sklearn.tree import DecisionTreeRegressor\n",
    "from sklearn.ensemble import GradientBoostingRegressor"
   ]
  },
  {
   "cell_type": "code",
   "execution_count": 2,
   "id": "00acaba8",
   "metadata": {},
   "outputs": [],
   "source": [
    "import pandas as pd\n",
    "import numpy as np\n",
    "from sklearn import model_selection\n",
    "from sklearn.metrics import mean_squared_error\n",
    "from sklearn.metrics import r2_score\n",
    "from sklearn.ensemble import ExtraTreesRegressor\n",
    "from sklearn.model_selection import train_test_split"
   ]
  },
  {
   "cell_type": "code",
   "execution_count": 3,
   "id": "ac971c76",
   "metadata": {},
   "outputs": [],
   "source": [
    "model1 = RandomForestRegressor()\n",
    "model2 = XGBRegressor()\n",
    "model3 = DecisionTreeRegressor()\n",
    "model4 = GradientBoostingRegressor()"
   ]
  },
  {
   "cell_type": "code",
   "execution_count": 4,
   "id": "21b35cde",
   "metadata": {},
   "outputs": [],
   "source": [
    "dataset = pd.read_csv(\"New SR Data.csv\")\n",
    "data = dataset.values\n",
    "X, y = data[:, :-1], data[:, -1]\n",
    "X_train, X_test, y_train, y_test = train_test_split(X, y, test_size=0.3, random_state=981)"
   ]
  },
  {
   "cell_type": "code",
   "execution_count": 5,
   "id": "1136b054",
   "metadata": {},
   "outputs": [
    {
     "name": "stdout",
     "output_type": "stream",
     "text": [
      "model 1\n",
      "r2_score: 0.921877\n",
      "RMSE: 0.116488\n",
      "MSE: 0.013570\n",
      "model 2\n",
      "r2_score: 0.962524\n",
      "RMSE: 0.080680\n",
      "MSE: 0.006509\n",
      "model 3\n",
      "r2_score: 0.743373\n",
      "RMSE: 0.211128\n",
      "MSE: 0.044575\n",
      "model 4\n",
      "r2_score: 0.905861\n",
      "RMSE: 0.127873\n",
      "MSE: 0.016351\n"
     ]
    }
   ],
   "source": [
    "print(\"model 1\")\n",
    "model1.fit(X_train,y_train)\n",
    "preds = model1.predict(X_test)\n",
    "rmse = np.sqrt(mean_squared_error(y_test, preds))\n",
    "R2= (r2_score(y_test, preds))\n",
    "print(\"r2_score: %f\"% (R2))\n",
    "print(\"RMSE: %f\" % (rmse))\n",
    "mse = (mean_squared_error(y_test, preds))\n",
    "print(\"MSE: %f\" % (mse))\n",
    "#np.savetxt(\"model1_353_1M_beha_predictions_sheet1_score1.csv\", preds, delimiter=\",\")\n",
    "#np.savetxt(\"model1_353_1M_beha_groundtruth_sheet1_score1.csv\", y_test, delimiter=\",\")\n",
    "\n",
    "print(\"model 2\")\n",
    "model2.fit(X_train,y_train)\n",
    "preds = model2.predict(X_test)\n",
    "rmse = np.sqrt(mean_squared_error(y_test, preds))\n",
    "R2= (r2_score(y_test, preds))\n",
    "print(\"r2_score: %f\"% (R2))\n",
    "print(\"RMSE: %f\" % (rmse))\n",
    "mse = (mean_squared_error(y_test, preds))\n",
    "print(\"MSE: %f\" % (mse))\n",
    "#np.savetxt(\"model2_353_1M_beha_predictions_sheet1_score1.csv\", preds, delimiter=\",\")\n",
    "#np.savetxt(\"model2_353_1M_beha_groundtruth_sheet1_score1.csv\", y_test, delimiter=\",\")\n",
    "\n",
    "print(\"model 3\")\n",
    "model3.fit(X_train,y_train)\n",
    "preds = model3.predict(X_test)\n",
    "rmse = np.sqrt(mean_squared_error(y_test, preds))\n",
    "R2= (r2_score(y_test, preds))\n",
    "print(\"r2_score: %f\"% (R2))\n",
    "print(\"RMSE: %f\" % (rmse))\n",
    "mse = (mean_squared_error(y_test, preds))\n",
    "print(\"MSE: %f\" % (mse))\n",
    "#np.savetxt(\"model3_353_1M_beha_predictions_sheet1_score1.csv\", preds, delimiter=\",\")\n",
    "#np.savetxt(\"model3_353_1M_beha_groundtruth_sheet1_score1.csv\", y_test, delimiter=\",\")\n",
    "\n",
    "print(\"model 4\")\n",
    "model4.fit(X_train,y_train)\n",
    "preds = model4.predict(X_test)\n",
    "rmse = np.sqrt(mean_squared_error(y_test, preds))\n",
    "R2= (r2_score(y_test, preds))\n",
    "print(\"r2_score: %f\"% (R2))\n",
    "print(\"RMSE: %f\" % (rmse))\n",
    "mse = (mean_squared_error(y_test, preds))\n",
    "print(\"MSE: %f\" % (mse))\n",
    "#np.savetxt(\"model4_353_1M_beha_predictions_sheet1_score1.csv\", preds, delimiter=\",\")\n",
    "#np.savetxt(\"model4_353_1M_beha_groundtruth_sheet1_score1.csv\", y_test, delimiter=\",\")\n",
    "\n"
   ]
  },
  {
   "cell_type": "code",
   "execution_count": 6,
   "id": "13a4d7be",
   "metadata": {},
   "outputs": [],
   "source": [
    "dataset = pd.read_csv(\"New SR Data.csv\")\n",
    "data = dataset.values\n",
    "X, y = data[:, :-1], data[:, -1]"
   ]
  },
  {
   "cell_type": "code",
   "execution_count": 7,
   "id": "d33c4ffb",
   "metadata": {},
   "outputs": [],
   "source": [
    "preds = model1.predict(X)"
   ]
  },
  {
   "cell_type": "code",
   "execution_count": 8,
   "id": "092f20f1",
   "metadata": {},
   "outputs": [
    {
     "data": {
      "text/plain": [
       "array([2.70362442, 2.37084346, 1.65196843, 2.26502811, 2.01578122,\n",
       "       2.42799419, 1.92163309, 1.82043008, 1.9060792 , 2.02797527,\n",
       "       2.01578122, 1.98577722, 1.87060805, 2.01578122, 2.93019747,\n",
       "       1.89744539, 2.07931795, 1.83971102, 2.08752565, 1.66741695,\n",
       "       2.0932712 , 2.11783387, 1.88061524, 2.73023966, 2.56364775,\n",
       "       2.71337077, 2.59402312])"
      ]
     },
     "execution_count": 8,
     "metadata": {},
     "output_type": "execute_result"
    }
   ],
   "source": [
    "preds"
   ]
  },
  {
   "cell_type": "code",
   "execution_count": 9,
   "id": "99850fc7",
   "metadata": {},
   "outputs": [
    {
     "name": "stdout",
     "output_type": "stream",
     "text": [
      "r2_score: 0.934814\n",
      "RMSE: 0.104279\n",
      "MSE: 0.010874\n"
     ]
    }
   ],
   "source": [
    "R2= (r2_score(y, preds))\n",
    "print(\"r2_score: %f\"% (R2))\n",
    "rmse = np.sqrt(mean_squared_error(y, preds))\n",
    "print(\"RMSE: %f\" % (rmse))\n",
    "mse = (mean_squared_error(y, preds))\n",
    "print(\"MSE: %f\" % (mse))\n",
    "np.savetxt(\"model1_353_1M_beha_predictions_sheet1_score1.csv\", preds, delimiter=\",\")"
   ]
  },
  {
   "cell_type": "code",
   "execution_count": 10,
   "id": "b005576f",
   "metadata": {},
   "outputs": [],
   "source": [
    "preds = model2.predict(X)"
   ]
  },
  {
   "cell_type": "code",
   "execution_count": 11,
   "id": "1123f398",
   "metadata": {},
   "outputs": [
    {
     "data": {
      "text/plain": [
       "array([2.730981 , 2.444354 , 1.5236632, 2.3084235, 2.0267618, 2.5368512,\n",
       "       1.8839822, 1.5733061, 1.8145825, 1.8846002, 2.0267618, 1.9176878,\n",
       "       1.9638433, 2.0267618, 3.0693817, 1.8229431, 2.1012938, 1.6654482,\n",
       "       2.2678175, 1.5775237, 2.2344737, 2.248895 , 1.960694 , 2.7436275,\n",
       "       2.5619495, 2.7310069, 2.5816965], dtype=float32)"
      ]
     },
     "execution_count": 11,
     "metadata": {},
     "output_type": "execute_result"
    }
   ],
   "source": [
    "preds"
   ]
  },
  {
   "cell_type": "code",
   "execution_count": 12,
   "id": "c219f677",
   "metadata": {},
   "outputs": [
    {
     "name": "stdout",
     "output_type": "stream",
     "text": [
      "r2_score: 0.986861\n",
      "RMSE: 0.046816\n",
      "MSE: 0.002192\n"
     ]
    }
   ],
   "source": [
    "R2= (r2_score(y, preds))\n",
    "print(\"r2_score: %f\"% (R2))\n",
    "rmse = np.sqrt(mean_squared_error(y, preds))\n",
    "print(\"RMSE: %f\" % (rmse))\n",
    "mse = (mean_squared_error(y, preds))\n",
    "print(\"MSE: %f\" % (mse))\n",
    "np.savetxt(\"model2_353_1M_beha_predictions_sheet1_score1.csv\", preds, delimiter=\",\")"
   ]
  },
  {
   "cell_type": "code",
   "execution_count": 13,
   "id": "a448cc35",
   "metadata": {},
   "outputs": [],
   "source": [
    "preds = model3.predict(X)"
   ]
  },
  {
   "cell_type": "code",
   "execution_count": 14,
   "id": "050622f7",
   "metadata": {},
   "outputs": [
    {
     "data": {
      "text/plain": [
       "array([2.743648 , 2.445111 , 1.522642 , 2.307722 , 2.0262295, 2.537048 ,\n",
       "       1.884192 , 1.577391 , 1.577391 , 1.884192 , 2.0262295, 1.917248 ,\n",
       "       1.963733 , 2.0262295, 3.071109 , 1.522642 , 2.101122 , 1.664163 ,\n",
       "       2.269501 , 1.577391 , 2.537048 , 2.269501 , 1.961667 , 2.743648 ,\n",
       "       2.743648 , 2.743648 , 2.581467 ])"
      ]
     },
     "execution_count": 14,
     "metadata": {},
     "output_type": "execute_result"
    }
   ],
   "source": [
    "preds"
   ]
  },
  {
   "cell_type": "code",
   "execution_count": 15,
   "id": "b9aef90d",
   "metadata": {},
   "outputs": [
    {
     "name": "stdout",
     "output_type": "stream",
     "text": [
      "r2_score: 0.910801\n",
      "RMSE: 0.121983\n",
      "MSE: 0.014880\n"
     ]
    }
   ],
   "source": [
    "R2= (r2_score(y, preds))\n",
    "print(\"r2_score: %f\"% (R2))\n",
    "rmse = np.sqrt(mean_squared_error(y, preds))\n",
    "print(\"RMSE: %f\" % (rmse))\n",
    "mse = (mean_squared_error(y, preds))\n",
    "print(\"MSE: %f\" % (mse))\n",
    "np.savetxt(\"model3_353_1M_beha_predictions_sheet1_score1.csv\", preds, delimiter=\",\")"
   ]
  },
  {
   "cell_type": "code",
   "execution_count": 16,
   "id": "b791ab3d",
   "metadata": {},
   "outputs": [],
   "source": [
    "preds = model4.predict(X)"
   ]
  },
  {
   "cell_type": "code",
   "execution_count": 17,
   "id": "28c84523",
   "metadata": {},
   "outputs": [
    {
     "data": {
      "text/plain": [
       "array([2.6557305 , 2.4446829 , 1.52481964, 2.30773798, 2.02670824,\n",
       "       2.53760092, 1.88458646, 1.7500095 , 1.82751812, 1.88324336,\n",
       "       2.02670824, 1.91588272, 1.96290664, 2.02670824, 3.07091015,\n",
       "       1.81700374, 2.10780359, 1.66555409, 2.26369839, 1.58261041,\n",
       "       2.37175489, 2.24247079, 1.95468882, 2.74292096, 2.63204128,\n",
       "       2.68073358, 2.58135149])"
      ]
     },
     "execution_count": 17,
     "metadata": {},
     "output_type": "execute_result"
    }
   ],
   "source": [
    "preds"
   ]
  },
  {
   "cell_type": "code",
   "execution_count": 18,
   "id": "ef0f3c33",
   "metadata": {},
   "outputs": [
    {
     "name": "stdout",
     "output_type": "stream",
     "text": [
      "r2_score: 0.967160\n",
      "RMSE: 0.074015\n",
      "MSE: 0.005478\n"
     ]
    }
   ],
   "source": [
    "R2= (r2_score(y, preds))\n",
    "print(\"r2_score: %f\"% (R2))\n",
    "rmse = np.sqrt(mean_squared_error(y, preds))\n",
    "print(\"RMSE: %f\" % (rmse))\n",
    "mse = (mean_squared_error(y, preds))\n",
    "print(\"MSE: %f\" % (mse))\n",
    "np.savetxt(\"model4_353_1M_beha_predictions_sheet1_score1.csv\", preds, delimiter=\",\")"
   ]
  },
  {
   "cell_type": "code",
   "execution_count": null,
   "id": "10b077ba",
   "metadata": {},
   "outputs": [],
   "source": []
  }
 ],
 "metadata": {
  "kernelspec": {
   "display_name": "Python 3",
   "language": "python",
   "name": "python3"
  },
  "language_info": {
   "codemirror_mode": {
    "name": "ipython",
    "version": 3
   },
   "file_extension": ".py",
   "mimetype": "text/x-python",
   "name": "python",
   "nbconvert_exporter": "python",
   "pygments_lexer": "ipython3",
   "version": "3.8.8"
  }
 },
 "nbformat": 4,
 "nbformat_minor": 5
}
