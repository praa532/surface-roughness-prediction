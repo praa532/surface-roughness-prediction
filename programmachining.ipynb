{
 "cells": [
  {
   "cell_type": "code",
   "execution_count": 10,
   "metadata": {},
   "outputs": [
    {
     "name": "stdout",
     "output_type": "stream",
     "text": [
      "model 2\n",
      "RMSE: 114.961508\n",
      "MSE: 13216.148371\n"
     ]
    }
   ],
   "source": [
    "from sklearn.neural_network import MLPRegressor\n",
    "from sklearn.ensemble import ExtraTreesRegressor\n",
    "from sklearn.ensemble import AdaBoostRegressor\n",
    "from sklearn.ensemble import BaggingRegressor\n",
    "from sklearn.ensemble import GradientBoostingRegressor\n",
    "from sklearn.ensemble import RandomForestRegressor\n",
    "from sklearn.neighbors import KNeighborsRegressor\n",
    "from sklearn.neural_network import MLPRegressor\n",
    "from xgboost import XGBRegressor\n",
    "# from sklearn.ensemble import StackingRegressor\n",
    "# from sklearn.ensemble import VotingRegressor\n",
    "# from sklearn.ensemble import HistGradientBoostingRegressor\n",
    "from sklearn.linear_model import SGDRegressor\n",
    "from sklearn.linear_model import LinearRegression\n",
    "from sklearn.svm import LinearSVR\n",
    "from sklearn.svm import SVR\n",
    "from sklearn.tree import DecisionTreeRegressor\n",
    "\n",
    "import pandas as pd\n",
    "import numpy as np\n",
    "from sklearn import model_selection\n",
    "from sklearn.metrics import mean_squared_error\n",
    "from sklearn.ensemble import ExtraTreesRegressor\n",
    "from sklearn.model_selection import train_test_split\n",
    "\n",
    "\n",
    "\n",
    "\n",
    "model6 = RandomForestRegressor()\n",
    "model2= SVR()\n",
    "\n",
    "\n",
    "\n",
    "\n",
    "\n",
    "dataset = pd.read_csv(\"Cutting force.csv\")\n",
    "data = dataset.values\n",
    "X, y = data[:, :-1], data[:, -1]\n",
    "X_train, X_test, y_train, y_test = train_test_split(X, y, test_size=0.3, random_state=981)\n",
    "\n",
    "\n",
    "#print(\"model 6\")\n",
    "#model6.fit(X_train,y_train)\n",
    "#preds = model6.predict(X_test)\n",
    "#rmse = np.sqrt(mean_squared_error(y_test, preds))\n",
    "#print(\"RMSE: %f\" % (rmse))\n",
    "#mse = (mean_squared_error(y_test, preds))\n",
    "#print(\"MSE: %f\" % (mse))\n",
    "#np.savetxt(\"model6_353_1M_beha_predictions_sheet1_score1.csv\", preds, delimiter=\",\")\n",
    "#np.savetxt(\"model6_353_1M_beha_groundtruth_sheet1_score1.csv\", y_test, delimiter=\",\")\n",
    "\n",
    "print(\"model 2\")\n",
    "model2.fit(X_train,y_train)\n",
    "preds = model2.predict(X_test)\n",
    "rmse = np.sqrt(mean_squared_error(y_test, preds))\n",
    "print(\"RMSE: %f\" % (rmse))\n",
    "mse = (mean_squared_error(y_test, preds))\n",
    "print(\"MSE: %f\" % (mse))\n",
    "np.savetxt(\"model2_353_1M_beha_predictions_sheet1_score1.csv\", preds, delimiter=\",\")\n",
    "np.savetxt(\"model2_353_1M_beha_groundtruth_sheet1_score1.csv\", y_test, delimiter=\",\")\n"
   ]
  },
  {
   "cell_type": "code",
   "execution_count": 5,
   "metadata": {},
   "outputs": [
    {
     "name": "stdout",
     "output_type": "stream",
     "text": [
      "Requirement already satisfied: xgboost in c:\\users\\prash\\anaconda3\\lib\\site-packages (1.4.2)\n",
      "Requirement already satisfied: scipy in c:\\users\\prash\\anaconda3\\lib\\site-packages (from xgboost) (1.6.2)\n",
      "Requirement already satisfied: numpy in c:\\users\\prash\\anaconda3\\lib\\site-packages (from xgboost) (1.20.1)\n"
     ]
    }
   ],
   "source": [
    "!pip install xgboost"
   ]
  },
  {
   "cell_type": "code",
   "execution_count": 6,
   "metadata": {},
   "outputs": [],
   "source": [
    "dataset = pd.read_csv(\"Machining Data 2.csv\")\n",
    "data = dataset.values\n",
    "X, y = data[:, :-1], data[:, -1]"
   ]
  },
  {
   "cell_type": "code",
   "execution_count": 61,
   "metadata": {},
   "outputs": [],
   "source": [
    "preds = model6.predict(X)"
   ]
  },
  {
   "cell_type": "code",
   "execution_count": 62,
   "metadata": {},
   "outputs": [
    {
     "data": {
      "text/plain": [
       "array([3.1611, 3.3903, 3.4758, 4.9749, 5.2241, 5.3297, 6.8507, 6.9504,\n",
       "       6.9438, 2.7037, 2.943 , 3.0681, 4.2865, 4.9796, 4.9398, 6.9889,\n",
       "       7.0581, 7.0945, 2.313 , 2.5486, 2.5866, 4.6578, 4.1582, 4.6149,\n",
       "       6.6309, 6.7651, 6.6856])"
      ]
     },
     "execution_count": 62,
     "metadata": {},
     "output_type": "execute_result"
    }
   ],
   "source": [
    "preds"
   ]
  },
  {
   "cell_type": "code",
   "execution_count": 63,
   "metadata": {},
   "outputs": [
    {
     "name": "stdout",
     "output_type": "stream",
     "text": [
      "RMSE: 0.450898\n",
      "MSE: 0.203309\n"
     ]
    }
   ],
   "source": [
    "rmse = np.sqrt(mean_squared_error(y, preds))\n",
    "print(\"RMSE: %f\" % (rmse))\n",
    "mse = (mean_squared_error(y, preds))\n",
    "print(\"MSE: %f\" % (mse))\n",
    "np.savetxt(\"model6_353_1M_beha_predictions_sheet1_score1.csv\", preds, delimiter=\",\")"
   ]
  },
  {
   "cell_type": "code",
   "execution_count": null,
   "metadata": {},
   "outputs": [],
   "source": []
  }
 ],
 "metadata": {
  "kernelspec": {
   "display_name": "Python 3",
   "language": "python",
   "name": "python3"
  },
  "language_info": {
   "codemirror_mode": {
    "name": "ipython",
    "version": 3
   },
   "file_extension": ".py",
   "mimetype": "text/x-python",
   "name": "python",
   "nbconvert_exporter": "python",
   "pygments_lexer": "ipython3",
   "version": "3.8.8"
  }
 },
 "nbformat": 4,
 "nbformat_minor": 2
}
