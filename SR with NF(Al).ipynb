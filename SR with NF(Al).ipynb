{
 "cells": [
  {
   "cell_type": "code",
   "execution_count": 13,
   "id": "2ee45508",
   "metadata": {},
   "outputs": [
    {
     "name": "stdout",
     "output_type": "stream",
     "text": [
      "model 1\n",
      "r2_score: 0.794395\n",
      "RMSE: 0.233106\n",
      "MSE: 0.054338\n",
      "model 2\n",
      "r2_score: 0.147181\n",
      "RMSE: 0.474750\n",
      "MSE: 0.225388\n"
     ]
    }
   ],
   "source": [
    "from sklearn.neural_network import MLPRegressor\n",
    "from sklearn.ensemble import ExtraTreesRegressor\n",
    "from sklearn.ensemble import AdaBoostRegressor\n",
    "from sklearn.ensemble import BaggingRegressor\n",
    "from sklearn.ensemble import GradientBoostingRegressor\n",
    "from sklearn.ensemble import RandomForestRegressor\n",
    "from sklearn.neighbors import KNeighborsRegressor\n",
    "from sklearn.neural_network import MLPRegressor\n",
    "from xgboost import XGBRegressor\n",
    "# from sklearn.ensemble import StackingRegressor\n",
    "# from sklearn.ensemble import VotingRegressor\n",
    "# from sklearn.ensemble import HistGradientBoostingRegressor\n",
    "from sklearn.linear_model import SGDRegressor\n",
    "from sklearn.linear_model import LinearRegression\n",
    "from sklearn.svm import LinearSVR\n",
    "from sklearn.svm import SVR\n",
    "from sklearn.tree import DecisionTreeRegressor\n",
    "\n",
    "import pandas as pd\n",
    "import numpy as np\n",
    "from sklearn import model_selection\n",
    "from sklearn.metrics import mean_squared_error\n",
    "from sklearn.metrics import r2_score\n",
    "from sklearn.ensemble import ExtraTreesRegressor\n",
    "from sklearn.model_selection import train_test_split\n",
    "\n",
    "model1 = RandomForestRegressor()\n",
    "model2 = SVR()\n",
    "\n",
    "dataset = pd.read_csv(\"Surface Roughness Al NF.csv\")\n",
    "data = dataset.values\n",
    "X, y = data[:, :-1], data[:, -1]\n",
    "X_train, X_test, y_train, y_test = train_test_split(X, y, test_size=0.3, random_state=0)\n",
    "\n",
    "print(\"model 1\")\n",
    "model1.fit(X_train,y_train)\n",
    "preds = model1.predict(X_test)\n",
    "rmse = np.sqrt(mean_squared_error(y_test, preds))\n",
    "R2= (r2_score(y_test, preds))\n",
    "print(\"r2_score: %f\"% (R2))\n",
    "print(\"RMSE: %f\" % (rmse))\n",
    "mse = (mean_squared_error(y_test, preds))\n",
    "print(\"MSE: %f\" % (mse))\n",
    "np.savetxt(\"model1_353_1M_beha_predictions_sheet1_score1.csv\", preds, delimiter=\",\")\n",
    "np.savetxt(\"model1_353_1M_beha_groundtruth_sheet1_score1.csv\", y_test, delimiter=\",\")\n",
    "\n",
    "print(\"model 2\")\n",
    "model2.fit(X_train,y_train)\n",
    "preds = model2.predict(X_test)\n",
    "rmse = np.sqrt(mean_squared_error(y_test, preds))\n",
    "R2= (r2_score(y_test, preds))\n",
    "print(\"r2_score: %f\"% (R2))\n",
    "print(\"RMSE: %f\" % (rmse))\n",
    "mse = (mean_squared_error(y_test, preds))\n",
    "print(\"MSE: %f\" % (mse))\n",
    "np.savetxt(\"model2_353_1M_beha_predictions_sheet1_score1.csv\", preds, delimiter=\",\")\n",
    "np.savetxt(\"model2_353_1M_beha_groundtruth_sheet1_score1.csv\", y_test, delimiter=\",\")"
   ]
  },
  {
   "cell_type": "code",
   "execution_count": 3,
   "id": "fd4b974b",
   "metadata": {},
   "outputs": [],
   "source": [
    "dataset = pd.read_csv(\"Surface Roughness Al NF.csv\")\n",
    "data = dataset.values\n",
    "X, y = data[:, :-1], data[:, -1]"
   ]
  },
  {
   "cell_type": "code",
   "execution_count": 4,
   "id": "81ed20b0",
   "metadata": {},
   "outputs": [],
   "source": [
    "preds = model1.predict(X)"
   ]
  },
  {
   "cell_type": "code",
   "execution_count": 5,
   "id": "7200e978",
   "metadata": {},
   "outputs": [
    {
     "data": {
      "text/plain": [
       "array([2.6334475, 2.24637  , 1.8999685, 2.19799  , 1.9632135, 2.177455 ,\n",
       "       1.8644355, 1.652645 , 1.7320925, 1.89548  , 1.9632135, 2.009475 ,\n",
       "       1.9221055, 1.9632135, 2.6435   , 1.8876905, 2.061475 , 1.762345 ,\n",
       "       2.05337  , 1.75576  , 2.13404  , 2.070805 , 1.9278605, 2.6336975,\n",
       "       2.63471  , 2.66373  , 2.55964  ])"
      ]
     },
     "execution_count": 5,
     "metadata": {},
     "output_type": "execute_result"
    }
   ],
   "source": [
    "preds"
   ]
  },
  {
   "cell_type": "code",
   "execution_count": 6,
   "id": "6ea6d139",
   "metadata": {},
   "outputs": [
    {
     "name": "stdout",
     "output_type": "stream",
     "text": [
      "r2_score: 0.862775\n",
      "RMSE: 0.146475\n",
      "MSE: 0.021455\n"
     ]
    }
   ],
   "source": [
    "R2= (r2_score(y, preds))\n",
    "print(\"r2_score: %f\"% (R2))\n",
    "rmse = np.sqrt(mean_squared_error(y, preds))\n",
    "print(\"RMSE: %f\" % (rmse))\n",
    "mse = (mean_squared_error(y, preds))\n",
    "print(\"MSE: %f\" % (mse))\n",
    "#np.savetxt(\"model2_353_1M_beha_predictions_sheet1_score1.csv\", preds, delimiter=\",\")"
   ]
  },
  {
   "cell_type": "code",
   "execution_count": 7,
   "id": "9779f19e",
   "metadata": {},
   "outputs": [
    {
     "name": "stdout",
     "output_type": "stream",
     "text": [
      "r2_score: 0.862775\n",
      "RMSE: 0.146475\n",
      "MSE: 0.021455\n"
     ]
    }
   ],
   "source": [
    "R2= (r2_score(y, preds))\n",
    "print(\"r2_score: %f\"% (R2))\n",
    "rmse = np.sqrt(mean_squared_error(y, preds))\n",
    "print(\"RMSE: %f\" % (rmse))\n",
    "mse = (mean_squared_error(y, preds))\n",
    "print(\"MSE: %f\" % (mse))\n",
    "#np.savetxt(\"model1_353_1M_beha_predictions_sheet1_score1.csv\", preds, delimiter=\",\")"
   ]
  },
  {
   "cell_type": "code",
   "execution_count": 8,
   "id": "8c243ce4",
   "metadata": {},
   "outputs": [],
   "source": [
    "dataset = pd.read_csv(\"Surface Roughness Al NF.csv\")\n",
    "data = dataset.values\n",
    "X, y = data[:, :-1], data[:, -1]"
   ]
  },
  {
   "cell_type": "code",
   "execution_count": 9,
   "id": "1a2caccb",
   "metadata": {},
   "outputs": [],
   "source": [
    "preds = model1.predict(X)"
   ]
  },
  {
   "cell_type": "code",
   "execution_count": 10,
   "id": "621d87a5",
   "metadata": {},
   "outputs": [
    {
     "data": {
      "text/plain": [
       "array([2.6334475, 2.24637  , 1.8999685, 2.19799  , 1.9632135, 2.177455 ,\n",
       "       1.8644355, 1.652645 , 1.7320925, 1.89548  , 1.9632135, 2.009475 ,\n",
       "       1.9221055, 1.9632135, 2.6435   , 1.8876905, 2.061475 , 1.762345 ,\n",
       "       2.05337  , 1.75576  , 2.13404  , 2.070805 , 1.9278605, 2.6336975,\n",
       "       2.63471  , 2.66373  , 2.55964  ])"
      ]
     },
     "execution_count": 10,
     "metadata": {},
     "output_type": "execute_result"
    }
   ],
   "source": [
    "preds"
   ]
  },
  {
   "cell_type": "code",
   "execution_count": 11,
   "id": "a2736c20",
   "metadata": {},
   "outputs": [],
   "source": [
    "preds = model2.predict(X)"
   ]
  },
  {
   "cell_type": "code",
   "execution_count": 12,
   "id": "647abcf0",
   "metadata": {},
   "outputs": [
    {
     "data": {
      "text/plain": [
       "array([2.02852328, 2.13403461, 1.9227258 , 2.13399999, 2.02850851,\n",
       "       2.13428629, 1.92299999, 1.92299117, 2.02851867, 2.13401682,\n",
       "       2.02850851, 1.92326905, 2.0282083 , 2.02850851, 2.1340207 ,\n",
       "       1.92298958, 2.02880872, 2.02849375, 2.02881888, 2.02819354,\n",
       "       2.13374303, 2.02883364, 2.02818338, 2.02849835, 2.02819814,\n",
       "       2.02882349, 1.92299548])"
      ]
     },
     "execution_count": 12,
     "metadata": {},
     "output_type": "execute_result"
    }
   ],
   "source": [
    "preds"
   ]
  },
  {
   "cell_type": "code",
   "execution_count": null,
   "id": "26df19aa",
   "metadata": {},
   "outputs": [],
   "source": []
  }
 ],
 "metadata": {
  "kernelspec": {
   "display_name": "Python 3",
   "language": "python",
   "name": "python3"
  },
  "language_info": {
   "codemirror_mode": {
    "name": "ipython",
    "version": 3
   },
   "file_extension": ".py",
   "mimetype": "text/x-python",
   "name": "python",
   "nbconvert_exporter": "python",
   "pygments_lexer": "ipython3",
   "version": "3.8.8"
  }
 },
 "nbformat": 4,
 "nbformat_minor": 5
}
