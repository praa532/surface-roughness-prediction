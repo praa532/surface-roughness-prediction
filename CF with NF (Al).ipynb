{
 "cells": [
  {
   "cell_type": "code",
   "execution_count": 28,
   "id": "7b9a4b50",
   "metadata": {},
   "outputs": [
    {
     "name": "stdout",
     "output_type": "stream",
     "text": [
      "model 1\n",
      "r2_score: 0.756612\n",
      "RMSE: 49.480353\n",
      "MSE: 2448.305375\n",
      "model 2\n",
      "r2_score: -0.020407\n",
      "RMSE: 101.314178\n",
      "MSE: 10264.562614\n"
     ]
    }
   ],
   "source": [
    "from sklearn.neural_network import MLPRegressor\n",
    "from sklearn.ensemble import ExtraTreesRegressor\n",
    "from sklearn.ensemble import AdaBoostRegressor\n",
    "from sklearn.ensemble import BaggingRegressor\n",
    "from sklearn.ensemble import GradientBoostingRegressor\n",
    "from sklearn.ensemble import RandomForestRegressor\n",
    "from sklearn.neighbors import KNeighborsRegressor\n",
    "from sklearn.neural_network import MLPRegressor\n",
    "from xgboost import XGBRegressor\n",
    "# from sklearn.ensemble import StackingRegressor\n",
    "# from sklearn.ensemble import VotingRegressor\n",
    "# from sklearn.ensemble import HistGradientBoostingRegressor\n",
    "from sklearn.linear_model import SGDRegressor\n",
    "from sklearn.linear_model import LinearRegression\n",
    "from sklearn.svm import LinearSVR\n",
    "from sklearn.svm import SVR\n",
    "from sklearn.tree import DecisionTreeRegressor\n",
    "\n",
    "import pandas as pd\n",
    "import numpy as np\n",
    "from sklearn import model_selection\n",
    "from sklearn.metrics import mean_squared_error\n",
    "from sklearn.metrics import r2_score\n",
    "from sklearn.ensemble import ExtraTreesRegressor\n",
    "from sklearn.model_selection import train_test_split\n",
    "\n",
    "model1 = RandomForestRegressor()\n",
    "model2 = SVR()\n",
    "\n",
    "dataset = pd.read_csv(\"Cutting force Al NF.csv\")\n",
    "data = dataset.values\n",
    "X, y = data[:, :-1], data[:, -1]\n",
    "X_train, X_test, y_train, y_test = train_test_split(X, y, test_size=0.3, random_state=0)\n",
    "\n",
    "print(\"model 1\")\n",
    "model1.fit(X_train,y_train)\n",
    "preds = model1.predict(X_test)\n",
    "rmse = np.sqrt(mean_squared_error(y_test, preds))\n",
    "R2= (r2_score(y_test, preds))\n",
    "print(\"r2_score: %f\"% (R2))\n",
    "print(\"RMSE: %f\" % (rmse))\n",
    "mse = (mean_squared_error(y_test, preds))\n",
    "print(\"MSE: %f\" % (mse))\n",
    "np.savetxt(\"model1_353_1M_beha_predictions_sheet1_score1.csv\", preds, delimiter=\",\")\n",
    "np.savetxt(\"model1_353_1M_beha_groundtruth_sheet1_score1.csv\", y_test, delimiter=\",\")\n",
    "\n",
    "print(\"model 2\")\n",
    "model2.fit(X_train,y_train)\n",
    "preds = model2.predict(X_test)\n",
    "rmse = np.sqrt(mean_squared_error(y_test, preds))\n",
    "R2= (r2_score(y_test, preds))\n",
    "print(\"r2_score: %f\"% (R2))\n",
    "print(\"RMSE: %f\" % (rmse))\n",
    "mse = (mean_squared_error(y_test, preds))\n",
    "print(\"MSE: %f\" % (mse))\n",
    "np.savetxt(\"model2_353_1M_beha_predictions_sheet1_score1.csv\", preds, delimiter=\",\")\n",
    "np.savetxt(\"model2_353_1M_beha_groundtruth_sheet1_score1.csv\", y_test, delimiter=\",\")"
   ]
  },
  {
   "cell_type": "code",
   "execution_count": 19,
   "id": "be615c8d",
   "metadata": {},
   "outputs": [],
   "source": [
    "dataset = pd.read_csv(\"Cutting force Al NF.csv\")\n",
    "data = dataset.values\n",
    "X, y = data[:, :-1], data[:, -1]"
   ]
  },
  {
   "cell_type": "code",
   "execution_count": 20,
   "id": "fdd42be8",
   "metadata": {},
   "outputs": [],
   "source": [
    "preds = model1.predict(X)"
   ]
  },
  {
   "cell_type": "code",
   "execution_count": 21,
   "id": "0870ed99",
   "metadata": {},
   "outputs": [
    {
     "data": {
      "text/plain": [
       "array([507.96601333, 468.24841   , 339.54272917, 239.9248075 ,\n",
       "       348.1950325 , 340.94979333, 475.43153   , 265.51977667,\n",
       "       386.86816   , 278.09609333, 348.1950325 , 343.013125  ,\n",
       "       460.32100333, 348.1950325 , 421.92294667, 197.7697925 ,\n",
       "       221.518255  , 218.89182   , 292.92435667, 284.126745  ,\n",
       "       338.42988083, 475.78027   , 215.44194583, 311.70113333,\n",
       "       423.414775  , 429.04908667, 427.85111833])"
      ]
     },
     "execution_count": 21,
     "metadata": {},
     "output_type": "execute_result"
    }
   ],
   "source": [
    "preds"
   ]
  },
  {
   "cell_type": "code",
   "execution_count": 22,
   "id": "3197536d",
   "metadata": {},
   "outputs": [
    {
     "name": "stdout",
     "output_type": "stream",
     "text": [
      "r2_score: 0.891693\n",
      "RMSE: 35.106885\n",
      "MSE: 1232.493385\n"
     ]
    }
   ],
   "source": [
    "R2= (r2_score(y, preds))\n",
    "print(\"r2_score: %f\"% (R2))\n",
    "rmse = np.sqrt(mean_squared_error(y, preds))\n",
    "print(\"RMSE: %f\" % (rmse))\n",
    "mse = (mean_squared_error(y, preds))\n",
    "print(\"MSE: %f\" % (mse))\n",
    "np.savetxt(\"model1_353_1M_beha_predictions_sheet1_score1.csv\", preds, delimiter=\",\")"
   ]
  },
  {
   "cell_type": "code",
   "execution_count": 23,
   "id": "27e0da6a",
   "metadata": {},
   "outputs": [],
   "source": [
    "dataset = pd.read_csv(\"Cutting force Al NF.csv\")\n",
    "data = dataset.values\n",
    "X, y = data[:, :-1], data[:, -1]"
   ]
  },
  {
   "cell_type": "code",
   "execution_count": 24,
   "id": "6769d203",
   "metadata": {},
   "outputs": [],
   "source": [
    "preds= model2.predict(X)"
   ]
  },
  {
   "cell_type": "code",
   "execution_count": 25,
   "id": "f9c8b46d",
   "metadata": {},
   "outputs": [
    {
     "data": {
      "text/plain": [
       "array([349.07613488, 348.55106937, 349.41158434, 348.55059932,\n",
       "       349.0758697 , 348.55091908, 349.41187886, 349.41164995,\n",
       "       349.07613027, 348.55082878, 349.0758697 , 349.41167339,\n",
       "       349.07605446, 349.0758697 , 348.55083266, 349.41140881,\n",
       "       349.07565702, 349.07559699, 349.07592497, 349.07578915,\n",
       "       348.55076274, 349.07619027, 349.0755212 , 349.0756016 ,\n",
       "       349.07579376, 349.07592958, 349.41165426])"
      ]
     },
     "execution_count": 25,
     "metadata": {},
     "output_type": "execute_result"
    }
   ],
   "source": [
    "preds"
   ]
  },
  {
   "cell_type": "code",
   "execution_count": 26,
   "id": "08d3bce3",
   "metadata": {},
   "outputs": [
    {
     "name": "stdout",
     "output_type": "stream",
     "text": [
      "r2_score: -0.000806\n",
      "RMSE: 106.718091\n",
      "MSE: 11388.750936\n"
     ]
    }
   ],
   "source": [
    "R2= (r2_score(y, preds))\n",
    "print(\"r2_score: %f\"% (R2))\n",
    "rmse = np.sqrt(mean_squared_error(y, preds))\n",
    "print(\"RMSE: %f\" % (rmse))\n",
    "mse = (mean_squared_error(y, preds))\n",
    "print(\"MSE: %f\" % (mse))\n",
    "np.savetxt(\"model2_353_1M_beha_predictions_sheet2_score1.csv\", preds, delimiter=\",\")"
   ]
  },
  {
   "cell_type": "code",
   "execution_count": null,
   "id": "fb0487f9",
   "metadata": {},
   "outputs": [],
   "source": []
  }
 ],
 "metadata": {
  "kernelspec": {
   "display_name": "Python 3",
   "language": "python",
   "name": "python3"
  },
  "language_info": {
   "codemirror_mode": {
    "name": "ipython",
    "version": 3
   },
   "file_extension": ".py",
   "mimetype": "text/x-python",
   "name": "python",
   "nbconvert_exporter": "python",
   "pygments_lexer": "ipython3",
   "version": "3.8.8"
  }
 },
 "nbformat": 4,
 "nbformat_minor": 5
}
