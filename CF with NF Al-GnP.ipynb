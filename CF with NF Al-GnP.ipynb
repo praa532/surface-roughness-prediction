{
 "cells": [
  {
   "cell_type": "code",
   "execution_count": 3,
   "id": "0f7e93fe",
   "metadata": {},
   "outputs": [
    {
     "name": "stdout",
     "output_type": "stream",
     "text": [
      "model 1\n",
      "r2_score: 0.825758\n",
      "RMSE: 37.773221\n",
      "MSE: 1426.816197\n",
      "model 2\n",
      "r2_score: -0.005313\n",
      "RMSE: 90.731443\n",
      "MSE: 8232.194673\n"
     ]
    }
   ],
   "source": [
    "from sklearn.neural_network import MLPRegressor\n",
    "from sklearn.ensemble import ExtraTreesRegressor\n",
    "from sklearn.ensemble import AdaBoostRegressor\n",
    "from sklearn.ensemble import BaggingRegressor\n",
    "from sklearn.ensemble import GradientBoostingRegressor\n",
    "from sklearn.ensemble import RandomForestRegressor\n",
    "from sklearn.neighbors import KNeighborsRegressor\n",
    "from sklearn.neural_network import MLPRegressor\n",
    "from xgboost import XGBRegressor\n",
    "# from sklearn.ensemble import StackingRegressor\n",
    "# from sklearn.ensemble import VotingRegressor\n",
    "# from sklearn.ensemble import HistGradientBoostingRegressor\n",
    "from sklearn.linear_model import SGDRegressor\n",
    "from sklearn.linear_model import LinearRegression\n",
    "from sklearn.svm import LinearSVR\n",
    "from sklearn.svm import SVR\n",
    "from sklearn.tree import DecisionTreeRegressor\n",
    "\n",
    "import pandas as pd\n",
    "import numpy as np\n",
    "from sklearn import model_selection\n",
    "from sklearn.metrics import mean_squared_error\n",
    "from sklearn.metrics import r2_score\n",
    "from sklearn.ensemble import ExtraTreesRegressor\n",
    "from sklearn.model_selection import train_test_split\n",
    "\n",
    "model1 = RandomForestRegressor()\n",
    "model2 = SVR()\n",
    "\n",
    "dataset = pd.read_csv(\"Cutting force Al-GnP NF.csv\")\n",
    "data = dataset.values\n",
    "X, y = data[:, :-1], data[:, -1]\n",
    "X_train, X_test, y_train, y_test = train_test_split(X, y, test_size=0.3, random_state=0)\n",
    "\n",
    "print(\"model 1\")\n",
    "model1.fit(X_train,y_train)\n",
    "preds = model1.predict(X_test)\n",
    "rmse = np.sqrt(mean_squared_error(y_test, preds))\n",
    "R2= (r2_score(y_test, preds))\n",
    "print(\"r2_score: %f\"% (R2))\n",
    "print(\"RMSE: %f\" % (rmse))\n",
    "mse = (mean_squared_error(y_test, preds))\n",
    "print(\"MSE: %f\" % (mse))\n",
    "np.savetxt(\"model1_353_1M_beha_predictions_sheet1_score1.csv\", preds, delimiter=\",\")\n",
    "np.savetxt(\"model1_353_1M_beha_groundtruth_sheet1_score1.csv\", y_test, delimiter=\",\")\n",
    "\n",
    "print(\"model 2\")\n",
    "model2.fit(X_train,y_train)\n",
    "preds = model2.predict(X_test)\n",
    "rmse = np.sqrt(mean_squared_error(y_test, preds))\n",
    "R2= (r2_score(y_test, preds))\n",
    "print(\"r2_score: %f\"% (R2))\n",
    "print(\"RMSE: %f\" % (rmse))\n",
    "mse = (mean_squared_error(y_test, preds))\n",
    "print(\"MSE: %f\" % (mse))\n",
    "np.savetxt(\"model2_353_1M_beha_predictions_sheet1_score1.csv\", preds, delimiter=\",\")\n",
    "np.savetxt(\"model2_353_1M_beha_groundtruth_sheet1_score1.csv\", y_test, delimiter=\",\")"
   ]
  },
  {
   "cell_type": "code",
   "execution_count": null,
   "id": "f8e57d82",
   "metadata": {},
   "outputs": [],
   "source": []
  }
 ],
 "metadata": {
  "kernelspec": {
   "display_name": "Python 3",
   "language": "python",
   "name": "python3"
  },
  "language_info": {
   "codemirror_mode": {
    "name": "ipython",
    "version": 3
   },
   "file_extension": ".py",
   "mimetype": "text/x-python",
   "name": "python",
   "nbconvert_exporter": "python",
   "pygments_lexer": "ipython3",
   "version": "3.8.8"
  }
 },
 "nbformat": 4,
 "nbformat_minor": 5
}
