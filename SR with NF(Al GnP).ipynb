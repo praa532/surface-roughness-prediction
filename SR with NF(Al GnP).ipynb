{
 "cells": [
  {
   "cell_type": "code",
   "execution_count": 26,
   "id": "36ff35b7",
   "metadata": {},
   "outputs": [
    {
     "name": "stdout",
     "output_type": "stream",
     "text": [
      "model 1\n",
      "r2_score: 0.704825\n",
      "RMSE: 0.217735\n",
      "MSE: 0.047409\n",
      "model 2\n",
      "r2_score: 0.121929\n",
      "RMSE: 0.375538\n",
      "MSE: 0.141029\n"
     ]
    }
   ],
   "source": [
    "from sklearn.neural_network import MLPRegressor\n",
    "from sklearn.ensemble import ExtraTreesRegressor\n",
    "from sklearn.ensemble import AdaBoostRegressor\n",
    "from sklearn.ensemble import BaggingRegressor\n",
    "from sklearn.ensemble import GradientBoostingRegressor\n",
    "from sklearn.ensemble import RandomForestRegressor\n",
    "from sklearn.neighbors import KNeighborsRegressor\n",
    "from sklearn.neural_network import MLPRegressor\n",
    "from xgboost import XGBRegressor\n",
    "# from sklearn.ensemble import StackingRegressor\n",
    "# from sklearn.ensemble import VotingRegressor\n",
    "# from sklearn.ensemble import HistGradientBoostingRegressor\n",
    "from sklearn.linear_model import SGDRegressor\n",
    "from sklearn.linear_model import LinearRegression\n",
    "from sklearn.svm import LinearSVR\n",
    "from sklearn.svm import SVR\n",
    "from sklearn.tree import DecisionTreeRegressor\n",
    "\n",
    "import pandas as pd\n",
    "import numpy as np\n",
    "from sklearn import model_selection\n",
    "from sklearn.metrics import mean_squared_error\n",
    "from sklearn.metrics import r2_score\n",
    "from sklearn.ensemble import ExtraTreesRegressor\n",
    "from sklearn.model_selection import train_test_split\n",
    "\n",
    "model1 = RandomForestRegressor()\n",
    "model2 = SVR()\n",
    "\n",
    "dataset = pd.read_csv( \"Surface Roughness Al GnP NF.csv\")\n",
    "data = dataset.values\n",
    "X, y = data[:, :-1], data[:, -1]\n",
    "X_train, X_test, y_train, y_test = train_test_split(X, y, test_size=0.3, random_state=0)\n",
    "\n",
    "print(\"model 1\")\n",
    "model1.fit(X_train,y_train)\n",
    "preds = model1.predict(X_test)\n",
    "rmse = np.sqrt(mean_squared_error(y_test, preds))\n",
    "R2= (r2_score(y_test, preds))\n",
    "print(\"r2_score: %f\"% (R2))\n",
    "print(\"RMSE: %f\" % (rmse))\n",
    "mse = (mean_squared_error(y_test, preds))\n",
    "print(\"MSE: %f\" % (mse))\n",
    "np.savetxt(\"model1_353_1M_beha_predictions_sheet1_score1.csv\", preds, delimiter=\",\")\n",
    "np.savetxt(\"model1_353_1M_beha_groundtruth_sheet1_score1.csv\", y_test, delimiter=\",\")\n",
    "\n",
    "print(\"model 2\")\n",
    "model2.fit(X_train,y_train)\n",
    "preds = model2.predict(X_test)\n",
    "rmse = np.sqrt(mean_squared_error(y_test, preds))\n",
    "R2= (r2_score(y_test, preds))\n",
    "print(\"r2_score: %f\"% (R2))\n",
    "print(\"RMSE: %f\" % (rmse))\n",
    "mse = (mean_squared_error(y_test, preds))\n",
    "print(\"MSE: %f\" % (mse))\n",
    "np.savetxt(\"model2_353_1M_beha_predictions_sheet1_score1.csv\", preds, delimiter=\",\")\n",
    "np.savetxt(\"model2_353_1M_beha_groundtruth_sheet1_score1.csv\", y_test, delimiter=\",\")"
   ]
  },
  {
   "cell_type": "code",
   "execution_count": 18,
   "id": "a97606c8",
   "metadata": {},
   "outputs": [],
   "source": [
    "dataset = pd.read_csv(\"Surface Roughness Al GnP NF.csv\")\n",
    "data = dataset.values\n",
    "X, y = data[:, :-1], data[:, -1]"
   ]
  },
  {
   "cell_type": "code",
   "execution_count": 19,
   "id": "9f605791",
   "metadata": {},
   "outputs": [],
   "source": [
    "preds = model1.predict(X)"
   ]
  },
  {
   "cell_type": "code",
   "execution_count": 20,
   "id": "66121fa9",
   "metadata": {},
   "outputs": [
    {
     "data": {
      "text/plain": [
       "array([2.10493   , 1.74589667, 1.43385833, 1.776321  , 1.57411667,\n",
       "       1.76103   , 1.48405167, 1.44598167, 1.39012767, 1.55515   ,\n",
       "       1.57411667, 1.63940333, 1.31479133, 1.57411667, 2.11149   ,\n",
       "       1.60251933, 1.651938  , 1.49006933, 1.65311   , 1.417025  ,\n",
       "       1.62084   , 1.648978  , 1.43394633, 2.11037   , 2.064915  ,\n",
       "       2.14208   , 1.945935  ])"
      ]
     },
     "execution_count": 20,
     "metadata": {},
     "output_type": "execute_result"
    }
   ],
   "source": [
    "preds"
   ]
  },
  {
   "cell_type": "code",
   "execution_count": 21,
   "id": "360993c1",
   "metadata": {},
   "outputs": [
    {
     "name": "stdout",
     "output_type": "stream",
     "text": [
      "r2_score: 0.827200\n",
      "RMSE: 0.129588\n",
      "MSE: 0.016793\n"
     ]
    }
   ],
   "source": [
    "R2= (r2_score(y, preds))\n",
    "print(\"r2_score: %f\"% (R2))\n",
    "rmse = np.sqrt(mean_squared_error(y, preds))\n",
    "print(\"RMSE: %f\" % (rmse))\n",
    "mse = (mean_squared_error(y, preds))\n",
    "print(\"MSE: %f\" % (mse))\n",
    "np.savetxt(\"model1_353_1M_beha_predictions_sheet1_score1.csv\", preds, delimiter=\",\")"
   ]
  },
  {
   "cell_type": "code",
   "execution_count": 6,
   "id": "8c48402c",
   "metadata": {},
   "outputs": [],
   "source": [
    "preds = model2.predict(X)"
   ]
  },
  {
   "cell_type": "code",
   "execution_count": 7,
   "id": "29bd03e1",
   "metadata": {},
   "outputs": [
    {
     "data": {
      "text/plain": [
       "array([1.62252793, 1.68704303, 1.55772056, 1.68699999, 1.62250851,\n",
       "       1.68729152, 1.55799998, 1.55798753, 1.62252332, 1.68702046,\n",
       "       1.62250851, 1.55826382, 1.62221296, 1.62250851, 1.68702434,\n",
       "       1.55798117, 1.62280406, 1.62248909, 1.62281888, 1.62219354,\n",
       "       1.68674827, 1.62283829, 1.62217873, 1.6224937 , 1.62219814,\n",
       "       1.62282349, 1.55799184])"
      ]
     },
     "execution_count": 7,
     "metadata": {},
     "output_type": "execute_result"
    }
   ],
   "source": [
    "preds"
   ]
  },
  {
   "cell_type": "code",
   "execution_count": 22,
   "id": "6dd4ced7",
   "metadata": {},
   "outputs": [],
   "source": [
    "dataset = pd.read_csv(\"Surface Roughness Al GnP NF.csv\")\n",
    "data = dataset.values\n",
    "X, y = data[:, :-1], data[:, -1]"
   ]
  },
  {
   "cell_type": "code",
   "execution_count": 23,
   "id": "4ff55287",
   "metadata": {},
   "outputs": [],
   "source": [
    "preds = model2.predict(X)"
   ]
  },
  {
   "cell_type": "code",
   "execution_count": 24,
   "id": "b7432194",
   "metadata": {},
   "outputs": [
    {
     "data": {
      "text/plain": [
       "array([1.62252793, 1.68704303, 1.55772056, 1.68699999, 1.62250851,\n",
       "       1.68729152, 1.55799998, 1.55798753, 1.62252332, 1.68702046,\n",
       "       1.62250851, 1.55826382, 1.62221296, 1.62250851, 1.68702434,\n",
       "       1.55798117, 1.62280406, 1.62248909, 1.62281888, 1.62219354,\n",
       "       1.68674827, 1.62283829, 1.62217873, 1.6224937 , 1.62219814,\n",
       "       1.62282349, 1.55799184])"
      ]
     },
     "execution_count": 24,
     "metadata": {},
     "output_type": "execute_result"
    }
   ],
   "source": [
    "preds"
   ]
  },
  {
   "cell_type": "code",
   "execution_count": 25,
   "id": "5e185664",
   "metadata": {},
   "outputs": [
    {
     "name": "stdout",
     "output_type": "stream",
     "text": [
      "r2_score: 0.070257\n",
      "RMSE: 0.300589\n",
      "MSE: 0.090354\n"
     ]
    }
   ],
   "source": [
    "R2= (r2_score(y, preds))\n",
    "print(\"r2_score: %f\"% (R2))\n",
    "rmse = np.sqrt(mean_squared_error(y, preds))\n",
    "print(\"RMSE: %f\" % (rmse))\n",
    "mse = (mean_squared_error(y, preds))\n",
    "print(\"MSE: %f\" % (mse))\n",
    "np.savetxt(\"model2_353_1M_beha_predictions_sheet1_score1.csv\", preds, delimiter=\",\")"
   ]
  },
  {
   "cell_type": "code",
   "execution_count": null,
   "id": "d6892f30",
   "metadata": {},
   "outputs": [],
   "source": []
  }
 ],
 "metadata": {
  "kernelspec": {
   "display_name": "Python 3",
   "language": "python",
   "name": "python3"
  },
  "language_info": {
   "codemirror_mode": {
    "name": "ipython",
    "version": 3
   },
   "file_extension": ".py",
   "mimetype": "text/x-python",
   "name": "python",
   "nbconvert_exporter": "python",
   "pygments_lexer": "ipython3",
   "version": "3.8.8"
  }
 },
 "nbformat": 4,
 "nbformat_minor": 5
}
